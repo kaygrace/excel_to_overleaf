{
 "cells": [
  {
   "cell_type": "code",
   "execution_count": null,
   "metadata": {},
   "outputs": [],
   "source": [
    "import pandas as pd"
   ]
  },
  {
   "cell_type": "code",
   "execution_count": null,
   "metadata": {},
   "outputs": [],
   "source": [
    "data = pd.read_csv('file.csv') # replace this with whatever your Excel sheet is named\n",
    "\n",
    "# to just apply my code and run with it, you need at least these eight columns in your data: \"label', \"freq\", \"freqerror\", \"period\", \"perioderr\", \"amp\", \"amperror\", and \"S/N\"\n",
    "# if you want them to be named something else just change them in the cell where we create \"df\" and if you need help doing that let me know!"
   ]
  },
  {
   "cell_type": "code",
   "execution_count": null,
   "metadata": {},
   "outputs": [],
   "source": [
    "df_readin = pd.DataFrame(data, columns = ['label', 'freq', 'freqerr', 'period', 'perioderr', 'amp', 'amperr', 'S/N']) # turn the Excel file into a pandas dataframe"
   ]
  },
  {
   "cell_type": "code",
   "execution_count": null,
   "metadata": {},
   "outputs": [],
   "source": [
    "df_readin['freq'] = df_readin['freq'].apply(lambda x: \"{:.3f}\".format(x))\n",
    "df_readin['freqerr'] = df_readin['freqerr'].apply(lambda x: \"{:.3f}\".format(x))\n",
    "df_readin['period'] = df_readin['period'].apply(lambda x: \"{:.3f}\".format(x))\n",
    "df_readin['perioderr'] = df_readin['perioderr'].apply(lambda x: \"{:.3f}\".format(x))\n",
    "df_readin['amp'] = df_readin['amp'].apply(lambda x: \"{:.2f}\".format(x))\n",
    "df_readin['amperr'] = df_readin['amperr'].apply(lambda x: \"{:.2f}\".format(x))\n",
    "df_readin['S/N'] = df_readin['S/N'].apply(lambda x: \"{:.1f}\".format(x))"
   ]
  },
  {
   "cell_type": "code",
   "execution_count": null,
   "metadata": {},
   "outputs": [],
   "source": [
    "df = pd.DataFrame() # create a new dataframe to stitch everything together into\n",
    "\n",
    "df['label'] = df_readin['label'].astype(str) # add label of f# to the table\n",
    "df['freq'] = df_readin['freq'].astype(str) + r' ± ' + df_readin['freqerr'].astype(str) # stitch frequency and frequency error together\n",
    "df['period'] = df_readin['period'].astype(str) + r' ± ' + df_readin[\"perioderr\"].astype(str) # stitch period and period error together\n",
    "df['amp'] = df_readin['amp'].astype(str) + r' ± ' + df_readin[\"amperr\"].astype(str) # stitch amplitude and amplitude error together\n",
    "df['sn'] = df_readin['S/N'].astype(str)"
   ]
  },
  {
   "cell_type": "code",
   "execution_count": null,
   "metadata": {},
   "outputs": [],
   "source": [
    "latex_table = df.to_latex(\n",
    "    index = False,  # To not include the DataFrame index as a column in the table\n",
    "    caption = \"\",  # The caption to appear above the table in the LaTeX document\n",
    "    label = \"tab:objectpulsationfreqs\",  # A label used for referencing the table within the LaTeX document\n",
    "    position = \"\",  # The preferred positions where the table should be placed in the document ('here', 'top', 'bottom', 'page')\n",
    "    column_format = \"l | r | r | r | r\",  # The format of the columns: left-aligned first column and all others right-aligned with vertical lines between them\n",
    "    escape = False,  # Disable escaping LaTeX special characters in the DataFrame\n",
    ")\n",
    "\n",
    "print(latex_table) # spits out the code that you can just paste into Overleaf"
   ]
  },
  {
   "cell_type": "code",
   "execution_count": null,
   "metadata": {},
   "outputs": [],
   "source": []
  }
 ],
 "metadata": {
  "kernelspec": {
   "display_name": "base",
   "language": "python",
   "name": "python3"
  },
  "language_info": {
   "codemirror_mode": {
    "name": "ipython",
    "version": 3
   },
   "file_extension": ".py",
   "mimetype": "text/x-python",
   "name": "python",
   "nbconvert_exporter": "python",
   "pygments_lexer": "ipython3",
   "version": "3.11.7"
  }
 },
 "nbformat": 4,
 "nbformat_minor": 2
}
